{
 "cells": [
  {
   "cell_type": "markdown",
   "metadata": {},
   "source": [
    "# Image classification of simulated AT-TPC events\n",
    "\n",
    "Welcome to this project in applied machine learning. In this project we will tackle a simple classification problem of two different classes. The classes are  simulated reaction types for the Ar(p, p') experiment conducted at MSU, in this task we'll focus on the classification task and simply treat the experiment as a black box. \n",
    "\n",
    "### This is a completed notebook with solution examples, for your implementation we suggest you implement your own solution in the `project.ipynb` notebook\n",
    "\n",
    "This project has three tasks with a recommendation for the time to spend on each task: \n",
    "\n",
    "- Preparation, Data exploration and standardization: 0.5hr\n",
    "- Model construction: 1hr\n",
    "- Hyperparameter tuning and performance validation: 1hr\n",
    "\n",
    "There is a notebook `project_solution.ipynb` included with suggestions to solutions for each task included, for reference or to easily move on to a part of the project more appealing to your interests. "
   ]
  },
  {
   "cell_type": "markdown",
   "metadata": {},
   "source": [
    "## Preparation: \n",
    "\n",
    "This project uses python and the machine learning library `keras`. As well as some functionality from `numpy` and `scikit-learn`. We recommend a `Python` verson of `>3.4`. These libraries should be installed to your specific system by using the command `pip3 install --user LIBRARY_NAME`"
   ]
  },
  {
   "cell_type": "markdown",
   "metadata": {},
   "source": [
    "## Task 1: Data exploration and standardization \n",
    "\n",
    "In machine learning, as in many other fields, the task of preparing data for analysis is as vital as it can be troublesome and tedious. In data-analysis the researcher can expect to spend the majority of their time merely processing data to prepare for analysis. In this projcet we will focus more on the entire pipeline of analysis, and so the data at hand has already been shaped to an image format suitable for our analysis. "
   ]
  },
  {
   "cell_type": "markdown",
   "metadata": {},
   "source": [
    "## Task 1a: Loading the data\n",
    "\n",
    "The data is stored in the `.npy` format using vecotrized code to speed up the read process. The files pointed to in this task are downsampled images with dimensions $64 x 64$ (if the images are to big for your laptop to handle, the script included in `../scripts/downsample_images.py` can further reduce the dimension). "
   ]
  },
  {
   "cell_type": "code",
   "execution_count": 6,
   "metadata": {},
   "outputs": [
    {
     "name": "stdout",
     "output_type": "stream",
     "text": [
      "Data shape:  (8000, 64, 64, 1)\n"
     ]
    }
   ],
   "source": [
    "import numpy as np # we'll be using this shorthand for the NumPy library throughout\n",
    "\n",
    "dataset = np.load(\"../data/images/project_data.npy\")\n",
    "n_samples = dataset.shape[0]\n",
    "\n",
    "print(\"Data shape: \", dataset.shape)"
   ]
  },
  {
   "cell_type": "markdown",
   "metadata": {},
   "source": [
    "## Task 1b: Inspecting the data\n",
    "\n",
    "The data is stored as xy projections of the real events, who take place in a 3d volume. This allows a simple exploratiuon of the data as images. In this task you should plot a few different events in a grid using `matplotlib.pyplot` "
   ]
  },
  {
   "cell_type": "code",
   "execution_count": 11,
   "metadata": {},
   "outputs": [
    {
     "data": {
      "image/png": "[encoded data removed]",
      "text/plain": [
       "<Figure size 720x720 with 4 Axes>"
      ]
     },
     "metadata": {
      "needs_background": "light"
     },
     "output_type": "display_data"
    }
   ],
   "source": [
    "import matplotlib.pyplot as plt\n",
    "\n",
    "rows = 2\n",
    "cols = 2\n",
    "n_plots = rows*cols\n",
    "fig, axs = plt.subplots(nrows=rows, ncols=cols, figsize=(10, 10 ))\n",
    "\n",
    "\n",
    "for row in axs: \n",
    "    for ax in row:\n",
    "        \"\"\"\n",
    "        one of pythons most wonderful attributes is that if an object is iterable it can be\n",
    "        directly iterated over, like above. \n",
    "        ax is an axis object from the 2d array of axis objects\n",
    "        \"\"\"\n",
    "\n",
    "        which = np.random.randint(0, n_samples)\n",
    "        ax.imshow(dataset[which].reshape(64, 64))\n",
    "        ax.axis(\"off\")\n",
    " "
   ]
  },
  {
   "cell_type": "markdown",
   "metadata": {},
   "source": [
    "## Task 1c: Standardizing the data\n",
    "An important part of the preprocessing of data is the standardization of the input. The intuition here is simply that the model should expect similar values in the input to mean the same. \n",
    "\n",
    "You should implement a standardization of the input. Perhaps the most common standardization is the centering of the mean of the distribution, and scaling by the standard deviation: \n",
    "\n",
    "$X_s = \\frac{X - \\mu}{\\sigma}$\n",
    "\n",
    "Note that for our data we only want to standardize the signal part of our image, we know the rest is zero and we don't want the standardization to be unduly effected. This also means we don't necessarily want a zero mean for our signal distribution. So for this example we stick with the scaling:\n",
    "\n",
    "$X_s = \\frac{X}{\\sigma}$\n",
    "\n",
    "Another important fact is that at already at this point is it recommended to separate the data in train and test sets. The partion of the data to test on should be roughly 10-20%. And to remember to compute the standardization variables only from the training set."
   ]
  },
  {
   "cell_type": "code",
   "execution_count": 37,
   "metadata": {},
   "outputs": [
    {
     "name": "stdout",
     "output_type": "stream",
     "text": [
      "Train Mean:  1.1661787282024227\n",
      "Train Std.:  4.498873508156905\n",
      "-------------\n",
      "Test Mean:  1.105126519078845\n",
      "Test Std.:  4.20416144539155\n",
      "############\n",
      "Train Mean:  0.259215718354389\n",
      "Train Std.:  0.9999999999999997\n",
      "-------------\n",
      "Test Mean:  0.2456451636337721\n",
      "Test Std.:  0.934492031787288\n"
     ]
    }
   ],
   "source": [
    "from sklearn.model_selection import train_test_split\n",
    "\n",
    "targets = np.load(\"../data/targets/project_targets.npy\")\n",
    "train_X, test_X, train_y, test_y = train_test_split(dataset, targets, test_size=0.15)\n",
    "\n",
    "nonzero_indices = np.nonzero(train_X)\n",
    "nonzero_elements = train_X[nonzero_indices]\n",
    "\n",
    "print(\"Train Mean: \", nonzero_elements.mean())\n",
    "print(\"Train Std.: \", nonzero_elements.std())\n",
    "print(\"-------------\")\n",
    "print(\"Test Mean: \", test_X[np.nonzero(test_X)].mean())\n",
    "print(\"Test Std.: \", test_X[np.nonzero(test_X)].std())\n",
    "print(\"############\")\n",
    "\n",
    "nonzero_scaled = nonzero_elements/nonzero_elements.std()\n",
    "train_X[nonzero_indices] = nonzero_scaled\n",
    "test_X[np.nonzero(test_X)] /= nonzero_elements.std()\n",
    "\n",
    "print(\"Train Mean: \", nonzero_scaled.mean())\n",
    "print(\"Train Std.: \", nonzero_scaled.std())\n",
    "print(\"-------------\")\n",
    "print(\"Test Mean: \", test_X[np.nonzero(test_X)].mean())\n",
    "print(\"Test Std.: \", test_X[np.nonzero(test_X)].std())"
   ]
  },
  {
   "cell_type": "markdown",
   "metadata": {},
   "source": [
    "#### We also want to plot up the data again to confirm that our scaling is sensible, you should reuse your code from above for this. "
   ]
  },
  {
   "cell_type": "code",
   "execution_count": 32,
   "metadata": {},
   "outputs": [
    {
     "data": {
      "image/png": "[encoded data removed]",
      "text/plain": [
       "<Figure size 720x720 with 4 Axes>"
      ]
     },
     "metadata": {
      "needs_background": "light"
     },
     "output_type": "display_data"
    }
   ],
   "source": [
    "import matplotlib.pyplot as plt\n",
    "\n",
    "rows = 2\n",
    "cols = 2\n",
    "n_plots = rows*cols\n",
    "fig, axs = plt.subplots(nrows=rows, ncols=cols, figsize=(10, 10 ))\n",
    "\n",
    "\n",
    "for row in axs: \n",
    "    for ax in row:\n",
    "        \"\"\"\n",
    "        one of pythons most wonderful attributes is that if an object is iterable it can be\n",
    "        directly iterated over, like above. \n",
    "        ax is an axis object from the 2d array of axis objects\n",
    "        \"\"\"\n",
    "\n",
    "        which = np.random.randint(0, train_X.shape[0])\n",
    "        ax.imshow(train_X[which].reshape(64, 64))\n",
    "        ax.axis(\"off\")"
   ]
  },
  {
   "cell_type": "markdown",
   "metadata": {},
   "source": [
    "## 1d: Encoding the targets: \n",
    "\n",
    "For classification one ordinarily encodes the target as a n-element zero vector with one element valued at 1 indicating the target class. This is simply called one-hot encoding.\n",
    "\n",
    "You should inspect the values of the target vectors and use the imported `OneHotEncoder` to convert the targets. "
   ]
  },
  {
   "cell_type": "code",
   "execution_count": 34,
   "metadata": {},
   "outputs": [],
   "source": [
    "from sklearn.preprocessing import OneHotEncoder\n",
    "\n"
   ]
  },
  {
   "cell_type": "markdown",
   "metadata": {},
   "source": [
    "## 2a: Creating a model\n",
    "\n",
    "In this task we will create a CNN with fully connected bottom-layers for classification. You should base your code on Morten's code for a model. We suggest yo do one of the following for this task: \n",
    "\n",
    "1. Implement a class or function `cnn` that returns a compiled Keras model with an arbitrary number of convolutional and fully connected layers with optional configuration of regularization terms or layers.\n",
    "2. Implement a simple hard-coded function `cnn` that returns a Keras model object. The architecture should be specified in the function. \n",
    "\n",
    "Both implementations should include multiple convolutional layers and ending with a couple fully connected layers. The output of the network should be a softmax or log-softmax layer of logits.  \n",
    "\n",
    "You should experiment with where in the network you place the non-linearities and whether to use striding or pooling to reduce the input. "
   ]
  },
  {
   "cell_type": "code",
   "execution_count": 36,
   "metadata": {},
   "outputs": [],
   "source": [
    "from keras.models import Sequential, Model\n",
    "from keras.layers import Dense, Conv2D, Flatten\n",
    "\n",
    "def create_convolutional_neural_network_keras(input_shape, receptive_field,\n",
    "                                              n_filters, n_neurons_connected, n_categories,\n",
    "                                              eta, lmbd):\n",
    "    \"\"\"\n",
    "    Modified from MH Jensen's course on machine learning in physics: \n",
    "    https://github.com/CompPhysics/MachineLearningMSU/blob/master/doc/pub/CNN/ipynb/CNN.ipynb\n",
    "    \"\"\"\n",
    "    model = Sequential()\n",
    "    model.add(Conv2D(n_filters, (receptive_field, receptive_field), input_shape=input_shape, padding='same',\n",
    "              activation='relu', kernel_regularizer=l2(lmbd)))\n",
    "    model.add(MaxPooling2D(pool_size=(2, 2)))\n",
    "    model.add(Flatten())\n",
    "    model.add(Dense(n_neurons_connected, activation='relu', kernel_regularizer=l2(lmbd)))\n",
    "    model.add(Dense(n_categories, activation='softmax', kernel_regularizer=l2(lmbd)))\n",
    "    \n",
    "    sgd = SGD(lr=eta)\n",
    "    model.compile(loss='categorical_crossentropy', optimizer=sgd, metrics=['accuracy'])\n",
    "    \n",
    "    return model"
   ]
  }
 ],
 "metadata": {
  "kernelspec": {
   "display_name": "Python 3",
   "language": "python",
   "name": "python3"
  },
  "language_info": {
   "codemirror_mode": {
    "name": "ipython",
    "version": 3
   },
   "file_extension": ".py",
   "mimetype": "text/x-python",
   "name": "python",
   "nbconvert_exporter": "python",
   "pygments_lexer": "ipython3",
   "version": "3.7.2"
  }
 },
 "nbformat": 4,
 "nbformat_minor": 2
}
